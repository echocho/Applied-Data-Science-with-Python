{
 "cells": [
  {
   "cell_type": "markdown",
   "metadata": {},
   "source": [
    "# Module 1: Fundamentals of Machine Learning - Intro to SciKit Learn"
   ]
  },
  {
   "cell_type": "markdown",
   "metadata": {},
   "source": [
    "## What is Machine Learning (ML)?\n",
    "1. The study of computer programs (algorithms) that can learn by example\n",
    "\n",
    "2. ML algorithms can generalize from existing examples of a task\n",
    "    - e.g. after seeing a training set of labeled images, an image classifier can figure out how to apply labels accurately to new, previously unseen images\n",
    "    \n",
    "## Machine Learning models can learn by example\n",
    "1. Algorithms learn rules from `labelled examples`.\n",
    "\n",
    "2. A set of labelled examples used for learning is called `training data`.\n",
    "\n",
    "3. The learned rules should also be able to `generalize` to correctly recognize or predict new examples not in the traning set.\n",
    "\n",
    "## Machine learning models learn from experience\n",
    "1. Labeled examples\n",
    "    -  email spam detection\n",
    "2. User feedback\n",
    "    - clicks on a search page\n",
    "3. Surrounding environment \n",
    "    - self-driving cars\n",
    "    \n",
    "## Machine Learning brings together statistics, computer science, and more..\n",
    "1. Statistical methods\n",
    "    - infer conclusions from data\n",
    "    - estimate reliability of predictions\n",
    "2. Computer science\n",
    "    - large-scale computing architectures\n",
    "    - algorithms for capturing, manipulating, indexing, combining, retrieving and performing predictions on data\n",
    "    - software piplines that manage the complexity of multiple subtasks\n",
    "3. Economics, biology, psychology\n",
    "    - how can an individual or system efficiently improve their performance in a given environment?\n",
    "    - what is learning and how can it be optimized?\n",
    "    \n",
    "## What is `Applied` Machine Learning?\n",
    "1. Understand basic ML concepts and workflow\n",
    "\n",
    "2. How to properly apply 'black-box' machine learning components and features\n",
    "\n",
    "3. Learn hwo to apply machine learning algorithms in Python using the `scikit-learn` package\n",
    "\n",
    "### What is not convered in this course:\n",
    "    - underlying theory of statistical machine learning\n",
    "    - lower-level details of how perticular ML components work\n",
    "    - in-depth material on more advanced concepts like deep learning\n",
    "    \n",
    "`Recommended book: Introduction to Machine Learning: A Guide for DAta Scientists, Andreas C. Muller and Satah Guido, O'Reilly Media`"
   ]
  },
  {
   "cell_type": "markdown",
   "metadata": {},
   "source": [
    "## Key types of Machine Learning problems\n",
    "\n",
    "### `Supervised` machine learning: learn to predict `target values` from labelled data\n",
    "1. classification (target values are discrete classes)\n",
    "\n",
    "2. regression (target values are continouous values)\n",
    "\n",
    "<img src=\"https://img.ceclinux.org/cc/a127b733c7ba8ee0131253295fbb624c895297.png\">\n",
    "\n",
    "<img src=\"https://img.ceclinux.org/6f/25db672b12450f93747899143a7ed9248dce37.png\">\n",
    "\n",
    "\n",
    "### `Unsupervied` machine learning: find structure in *unlabeled* data\n",
    "1. find groups of similar instances in the data (clustering)\n",
    "\n",
    "2. finding unusual patterns (outlier detection)\n",
    "\n",
    "<img src=\"https://img.ceclinux.org/43/5fd3aa2e6811e38501eaed1fe7247a25f0294b.png\">\n",
    "\n",
    "<img src=\"https://img.ceclinux.org/a6/e204341334f0dc5266d8a1967fd5175fdd8d87.png\">\n",
    "\n",
    "<img src=\"https://img.ceclinux.org/45/41d3b9a13c2c8ffd58c94c1f2e335fd75df110.png\">\n"
   ]
  },
  {
   "cell_type": "markdown",
   "metadata": {},
   "source": [
    "## Python Tools for Machine Learning\n",
    "1. scikit-learn\n",
    "    - from sklearn.model_selection import train_test_split; from sklearn.tree import DecisionTreeClassifier\n",
    "2. scipy\n",
    "\n",
    "3. numpy\n",
    "\n",
    "4. pandas\n",
    "\n",
    "5. matplotlib and others\n",
    "    - import matplotlib.pyplot as plt; import seaborn as sn; import graphviizs\n"
   ]
  },
  {
   "cell_type": "markdown",
   "metadata": {},
   "source": [
    "## An Example Machine Learning Problem\n",
    "\n",
    "<img src=\"https://img.ceclinux.org/7b/101e665d3bd7a9f7b8338a85ec2f103400b8f3.png\">\n",
    "\n",
    "<img src=\"https://img.ceclinux.org/90/023537a0aaa4b35c2e1aaeec784a61002a90c1.png\">\n",
    "\n",
    "<img src=\"https://img.ceclinux.org/5a/8175e6d6cd98104f56cdb3edf3a27804335a22.png\">\n",
    "\n",
    "<img src=\"https://img.ceclinux.org/3c/d8d3c2152ce82a41b77402b067dfa105d68cd0.png\">\n",
    "\n",
    "\n",
    "Notes: can't use a training sample as a test sample!"
   ]
  },
  {
   "cell_type": "markdown",
   "metadata": {},
   "source": [
    "## Examining the Data\n",
    "### Why looking at the data initially is important\n",
    "1. insepecting feature values may help identify what cleaning or preprocessing still needs to be done once you can see the range or distribution of values that is typical for each attribute\n",
    "\n",
    "2. you maight notice missing or noisy data, or inconsistencies such as the wrong data type being used for a column, incorrect units of measurements for a particular column, ro that there aren't enough examples of a particular class\n",
    "\n",
    "3. you may realize that your problem is actually solvable without machine learning\n",
    "\n",
    "Examples:\n",
    "<img src=\"https://img.ceclinux.org/dc/fb0a1c4a6906d4cce0b6b08f4a2fdaeee04a55.png\">\n",
    "\n",
    "<img src=\"https://img.ceclinux.org/23/7b10a1f3866db085044c9311b691fa83b00bf5.png\">"
   ]
  },
  {
   "cell_type": "markdown",
   "metadata": {},
   "source": [
    "## K-Nearest Neighbors Classification\n",
    "1. can be both for classifiers and regression\n",
    "\n",
    "2. is an instance-based/memory-based supervised leanring, meaning it memorizes labelled examples during training \n",
    "\n",
    "### The k-Nearest Neighbor (k-NN) Classifier Algorithm\n",
    "*Given a training set X_train with labels y_train, and given a new instance x_test to be classified:*\n",
    "\n",
    "1. find the most similar instances (let's call them X_NN) to x_test that are in X_train\n",
    "\n",
    "2. get the labels y_NN for the instances in X_NN\n",
    "\n",
    "3. predict the label for x_test by combining the labels y_NN e.g. simple majority vote\n",
    "\n",
    "<img src=\"https://img.ceclinux.org/4f/1065e157a5eee43d00856cfbcf60350d859b7b.png\">\n",
    "\n",
    "## A nearest neighbor algorithm needs four things specified\n",
    "1. a distance metric\n",
    "    - typically Euclidean (Minkowski with p=2)\n",
    "2. how many 'nearest' neightbors to look at?\n",
    "    - e.g. five\n",
    "3. optional weighting function on the neighbor points\n",
    "    - ignored\n",
    "4. how to aggregate the classes of neighbor points\n",
    "    - simple majority vote; (class with the most representatives among nearest neighbors)\n",
    "    \n",
    "\n",
    "### Bias Variance tradeoff\n",
    "1. When K is smaller, the prediction is sensitive to noise, outliers, mislabeled data, and other sources of variation in individual data point. \n",
    "\n",
    "2. For larger values of K, the areas assigned to different classes are smotther and not as fragmented and more robust to noise in the indvidual points. But possibley with more mistakes in individual points."
   ]
  },
  {
   "cell_type": "code",
   "execution_count": null,
   "metadata": {},
   "outputs": [],
   "source": []
  }
 ],
 "metadata": {
  "kernelspec": {
   "display_name": "Python 3",
   "language": "python",
   "name": "python3"
  },
  "language_info": {
   "codemirror_mode": {
    "name": "ipython",
    "version": 3
   },
   "file_extension": ".py",
   "mimetype": "text/x-python",
   "name": "python",
   "nbconvert_exporter": "python",
   "pygments_lexer": "ipython3",
   "version": "3.6.2"
  }
 },
 "nbformat": 4,
 "nbformat_minor": 2
}
