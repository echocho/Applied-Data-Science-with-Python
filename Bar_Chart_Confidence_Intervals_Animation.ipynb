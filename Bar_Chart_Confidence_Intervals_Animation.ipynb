{
 "cells": [
  {
   "cell_type": "code",
   "execution_count": 1,
   "metadata": {},
   "outputs": [
    {
     "name": "stdout",
     "output_type": "stream",
     "text": [
      "Using matplotlib backend: MacOSX\n"
     ]
    }
   ],
   "source": [
    "%matplotlib\n",
    "import pandas as pd\n",
    "import numpy as np\n",
    "import matplotlib.colors as mcol\n",
    "import matplotlib.cm as cm\n",
    "import matplotlib.pyplot as plt\n",
    "\n",
    "np.random.seed(12345)\n",
    "\n",
    "df = pd.DataFrame([np.random.normal(32000,200000,3650), \n",
    "                   np.random.normal(43000,100000,3650), \n",
    "                   np.random.normal(43500,140000,3650), \n",
    "                   np.random.normal(48000,70000,3650)], \n",
    "                  index=[1992,1993,1994,1995])\n",
    "\n",
    "# In a normal distribution, the interval [μ - 2σ, μ + 2σ] covers 95.5 %, \n",
    "# so you can use 2 * std to estimate the 95 % interval\n",
    "\n",
    "fig, ax = plt.subplots()\n",
    "\n",
    "threshold = 44000\n",
    "# ------fix me-----\n",
    "# ------the chart looks weired when adding yerr\n",
    "# bars = plt.bar(range(df.shape[0]), df.mean(axis = 1), yerr=2*df.std(axis=1), color = 'white')\n",
    "# ci_1 = df.mean(axis=1) + (1.96 * df.std(axis=1) / df.shape[1])\n",
    "# ci_2 = df.mean(axis=1) - (1.96 * df.std(axis=1) / df.shape[1])\n",
    "# yerr = list(zip(ci_1, ci_2))\n",
    "# ------------\n",
    "\n",
    "bars = plt.bar(range(df.shape[0]), df.mean(axis = 1), color = 'white')\n",
    "axline = plt.axhline(y=threshold, color = 'grey', alpha = 0.5)\n",
    "\n",
    "colrm = mcol.LinearSegmentedColormap.from_list(\"HW3\",[\"blue\", \"white\", \"red\"])\n",
    "cpick = cm.ScalarMappable(cmap=colrm) \n",
    "cpick.set_array([])\n",
    "plt.colorbar(cpick, orientation='horizontal')\n",
    "\n",
    "def percentages(threshold):\n",
    "    percentages = []\n",
    "    for bar in bars:\n",
    "        percentage = (bar.get_height()-threshold)/bar.get_height()\n",
    "        if percentage > 1: \n",
    "            percentage = 1\n",
    "        if percentage < 0: \n",
    "            percentage = 0\n",
    "        percentages.append(percentage)\n",
    "    return percentages\n",
    "\n",
    "def update(threshold):\n",
    "    axline.set_ydata(threshold)\n",
    "    perc = percentages(threshold)\n",
    "    for bar, p in zip(bars, perc):\n",
    "        bar.set_color(cpick.to_rgba(p))\n",
    "\n",
    "# update once before showing\n",
    "update(threshold)\n",
    "\n",
    "def onMouseMove(event):\n",
    "    if event.inaxes == ax:\n",
    "        update(event.ydata)\n",
    "        fig.canvas.draw_idle()\n",
    "\n",
    "fig.canvas.mpl_connect('motion_notify_event', onMouseMove)\n",
    "\n",
    "plt.xticks(range(df.shape[0]), df.index, alpha = 0.8)\n",
    "\n",
    "plt.show()\n"
   ]
  },
  {
   "cell_type": "code",
   "execution_count": null,
   "metadata": {},
   "outputs": [],
   "source": []
  }
 ],
 "metadata": {
  "kernelspec": {
   "display_name": "Python 3",
   "language": "python",
   "name": "python3"
  },
  "language_info": {
   "codemirror_mode": {
    "name": "ipython",
    "version": 3
   },
   "file_extension": ".py",
   "mimetype": "text/x-python",
   "name": "python",
   "nbconvert_exporter": "python",
   "pygments_lexer": "ipython3",
   "version": "3.6.2"
  }
 },
 "nbformat": 4,
 "nbformat_minor": 2
}
