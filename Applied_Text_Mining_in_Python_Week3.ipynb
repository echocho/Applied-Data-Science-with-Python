{
 "cells": [
  {
   "cell_type": "markdown",
   "metadata": {},
   "source": [
    "# Classification of Text\n",
    "\n",
    "## Text Classification\n",
    "\n",
    "### Examples of Text Classification\n",
    "1. Topic identification\n",
    "2. Sapam dection\n",
    "3. Sentiment analysis: is this movie review positive or negative \n",
    "4. Spelling correction: weather or whether? color or colour?\n",
    "\n",
    "### Supervised Classification\n",
    "1. Learn a **classification model** on properties ('features') and their importance ('weights') from labeled instances \n",
    "2. Phases: training phase; inference phase\n",
    "3. Datasets: training date set; validation data set; test data set\n",
    "\n",
    "### Classification Paradigms\n",
    "1. When there are only two possible classes; |Y| = 2:\n",
    "**Binary Classification**\n",
    "2. When there are only two possible classes; |Y| > 2:\n",
    "**Multi-class Classification**\n",
    "3. When data instances can have two or more labels:\n",
    "**Multi-label Classification**\n",
    "\n",
    "### Qs to ask in Supervised Learning\n",
    "1. Training phase\n",
    "    - what are the features? how do you represent them?\n",
    "    - what is the classification model /algorithm?\n",
    "    - what are the model parameters?\n",
    "2. Inference phase\n",
    "    - what the is expected performance? what is a good measure?"
   ]
  },
  {
   "cell_type": "markdown",
   "metadata": {},
   "source": [
    "## Identifying Features from Text\n",
    "\n",
    "### Why is texutal data unique?\n",
    "1. Textual data presents a unique set of challenges\n",
    "2. All the information you need is in text\n",
    "3. But features can be pulled out from text at different granularities.\n",
    "\n",
    "### Types of textural features\n",
    "1. Words\n",
    "    - by far the most common class of features\n",
    "    - handling commonly-occurring words: Stop Words\n",
    "    - normalization: make lower case vs. leave as-is\n",
    "    - stemming /lemmatization\n",
    "2. Characteristics of words\n",
    "    - capitalization\n",
    "    - parts of speech of words in a sentence\n",
    "    - grammatical structure, sentence parsing\n",
    "    - grouping words of similar meaning, semantics\n",
    "        - {buy, purchase}\n",
    "        - {Mr., Ms., Dr., Prof.}; \n",
    "        - numbers/digits\n",
    "        - dates\n",
    "3. Depending on classification tasks, features may come from inside words and word sequnces\n",
    "    - bigrams, trigrams, n-grams; \"White House\"\n",
    "    - character sub-sequences in words: 'ing', 'ion', ..."
   ]
  },
  {
   "cell_type": "markdown",
   "metadata": {},
   "source": [
    "## Naive Bayes Classifiers\n",
    "\n",
    "v"
   ]
  }
 ],
 "metadata": {
  "kernelspec": {
   "display_name": "Python 3",
   "language": "python",
   "name": "python3"
  },
  "language_info": {
   "codemirror_mode": {
    "name": "ipython",
    "version": 3
   },
   "file_extension": ".py",
   "mimetype": "text/x-python",
   "name": "python",
   "nbconvert_exporter": "python",
   "pygments_lexer": "ipython3",
   "version": "3.6.2"
  }
 },
 "nbformat": 4,
 "nbformat_minor": 2
}
