{
 "cells": [
  {
   "cell_type": "markdown",
   "metadata": {},
   "source": [
    "# Module 4: Applications\n",
    "\n",
    "## Preferential Attachment Model\n",
    "\n",
    "### Degree Distributions\n",
    "- The **degree** of a node in an undirected graph is the number of neighbors it has. \n",
    "- The **degree distribution** of a graph is the probability distribution of the degrees over the entire network.\n",
    "- The degree distribution, P(k), of this network has the following values:\n",
    "<img src=\"https://img.ceclinux.org/19/72b5469549cab360a0f422e0e840b2e9bcbaa4.png\">\n",
    "$P(1)=\\frac{1}{9}, P(2)=\\frac{4}{9}, P(3)=\\frac{1}{3}, P(4)=\\frac{1}{9}$\n",
    "- To plot degree distribution of the network:\n",
    "```python\n",
    "    degrees = G.degree()\n",
    "    degree_values = sorted(set(degrees.values()))\n",
    "    histogram = [list(degrees.values()).count(i)/float(nx.number_of_nodes(G)) for i in degree_values]\n",
    "\n",
    "    import matplotlib.pyplot as plt\n",
    "    plt.bar(degree_values, histogram)\n",
    "    plt.xlabel('Degree')\n",
    "    plt.ylabel('Fraction of Nodes')\n",
    "    plt.show()\n",
    "```\n",
    "<img src=\"https://img.ceclinux.org/d9/736b19d545af23a38303831caa3f52439205f1.png\">\n",
    "\n",
    "### In-Degree Distributions\n",
    "The in-degree of a node in a directed graph is the number of in-links it has. \n",
    "<img src=\"https://img.ceclinux.org/90/b3e479ecc317a1fde5ae9ec53ef8b5fe3c4ce8.png\">\n",
    "$P_{in}(0)=\\frac{2}{9}, P_{in}(1)=\\frac{4}{9}, P_{in}(2)=\\frac{2}{9}, P{in}(3)=\\frac{1}{9}$\n",
    "<img src=\"https://img.ceclinux.org/10/d2cfb73debf088cc11f8e917d46c89e48837cf.png\">\n",
    "\n",
    "### Degree Distributions in Real Networks\n",
    "<img src=\"https://img.ceclinux.org/80/948fb37c743b70b7f207b342349442f5588d32.png\">\n",
    "Networks with ***power law*** distribution have many nodes with small degree and a few nodes with very large degree. \n",
    "\n",
    "### Network Modeling \n",
    "\n",
    "### Perferential Attachment Model\n",
    "1. start with two nodes connected by an edge.\n",
    "2. At each time step, add a new node with an edge connecting it to an existing node.\n",
    "3. Choose the node to connect to at random with probability proportional to each node's degree.\n",
    "4. The probability of connecting to a node *u* of degree $k_{u}$ is $\\frac{k_{u}}{\\sum{j} k_j}$\n",
    "5. As the number of nodes increases, the degree distribution of the network under the preferential attachment model approaches the power law $P(k)=Ck^-2$ with constant *C*.\n",
    "6. The preferential attachment model produces networks with degree distributions similar to real networks.\n",
    "\n",
    "### Preferential Attachment in NetworkX\n",
    "<img src=\"https://img.ceclinux.org/e7/420c8941e974a4e4e487879d6e17d1862c5259.png\">"
   ]
  },
  {
   "cell_type": "markdown",
   "metadata": {},
   "source": [
    "### Small World Networks\n"
   ]
  }
 ],
 "metadata": {
  "kernelspec": {
   "display_name": "Python 3",
   "language": "python",
   "name": "python3"
  },
  "language_info": {
   "codemirror_mode": {
    "name": "ipython",
    "version": 3
   },
   "file_extension": ".py",
   "mimetype": "text/x-python",
   "name": "python",
   "nbconvert_exporter": "python",
   "pygments_lexer": "ipython3",
   "version": "3.6.2"
  }
 },
 "nbformat": 4,
 "nbformat_minor": 2
}
