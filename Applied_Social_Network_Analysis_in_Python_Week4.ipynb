{
 "cells": [
  {
   "cell_type": "markdown",
   "metadata": {},
   "source": [
    "# Module 4: Applications\n",
    "\n",
    "## Preferential Attachment Model\n",
    "\n",
    "### Degree Distributions\n",
    "- The **degree** of a node in an undirected graph is the number of neighbors it has. \n",
    "- The **degree distribution** of a graph is the probability distribution of the degrees over the entire network.\n",
    "- The degree distribution, P(k), of this network has the following values:\n",
    "<img src=\"https://img.ceclinux.org/19/72b5469549cab360a0f422e0e840b2e9bcbaa4.png\">\n",
    "$P(1)=\\frac{1}{9}, P(2)=\\frac{4}{9}, P(3)=\\frac{1}{3}, P(4)=\\frac{1}{9}$\n",
    "- To plot degree distribution of the network:\n",
    "```python\n",
    "    degrees = G.degree()\n",
    "    degree_values = sorted(set(degrees.values()))\n",
    "    histogram = [list(degrees.values()).count(i)/float(nx.number_of_nodes(G)) for i in degree_values]\n",
    "\n",
    "    import matplotlib.pyplot as plt\n",
    "    plt.bar(degree_values, histogram)\n",
    "    plt.xlabel('Degree')\n",
    "    plt.ylabel('Fraction of Nodes')\n",
    "    plt.show()\n",
    "```\n",
    "<img src=\"https://img.ceclinux.org/d9/736b19d545af23a38303831caa3f52439205f1.png\">\n",
    "\n",
    "### In-Degree Distributions"
   ]
  },
  {
   "cell_type": "code",
   "execution_count": null,
   "metadata": {},
   "outputs": [],
   "source": []
  }
 ],
 "metadata": {
  "kernelspec": {
   "display_name": "Python 3",
   "language": "python",
   "name": "python3"
  },
  "language_info": {
   "codemirror_mode": {
    "name": "ipython",
    "version": 3
   },
   "file_extension": ".py",
   "mimetype": "text/x-python",
   "name": "python",
   "nbconvert_exporter": "python",
   "pygments_lexer": "ipython3",
   "version": "3.6.2"
  }
 },
 "nbformat": 4,
 "nbformat_minor": 2
}
