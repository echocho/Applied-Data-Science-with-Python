{
 "cells": [
  {
   "cell_type": "markdown",
   "metadata": {},
   "source": [
    "# Module 3: Influence Measures and Network Centralization\n",
    "\n",
    "## Degree and Closeness Centrality\n",
    "\n",
    "### Network Centrality\n",
    "Centrality measures identify the most important nodes in a network:\n",
    "    - Influenctial nodes in a social network\n",
    "    - Nodes that disseminate information to many nodes or prevent epidemics\n",
    "    - Hubs in a trasportation network\n",
    "    - Important pages on the Web\n",
    "    - Nodes that prevent the network from breaking up\n",
    "    \n",
    "### Centrality Measures\n",
    "- Degree centrality\n",
    "- Closeness centrality\n",
    "- Betweenness centrality\n",
    "- Load centrality\n",
    "- Page Rank\n",
    "- Katz centrality\n",
    "- Percolation centrality\n",
    "\n",
    "### Degree Centrality\n",
    "- Assumption: inportant nodes have many connections.\n",
    "- Basic measurement: the number of neighbors\n",
    "    - undirected networks: use degree\n",
    "        - $C_{deg}(V) = \\frac{d_v}{|N|-1}$, where N is the set of nodes ni the network and $d_v$ is the degree of node v.\n",
    "        - <img src=\"https://img.ceclinux.org/bc/d32596f244726222d22581014be742bd102dda.png\">\n",
    "        - <img src=\"https://img.ceclinux.org/63/e775787eacbd6b2ddd202de25576385672a09d.png\">\n",
    "    - directed networks: use in-degree or out-degree\n",
    "        - $C_{indeg}(v)=\\frac{d_v^{in}}{|N|-1}$, where N=set of nodes in the network, $d_v^{in}$ = the in-degree of node v.\n",
    "        - <img src=\"https://img.ceclinux.org/8c/7aaa71c5fd67bcac62f322fb954dcf62f98e1a.png\">\n",
    "        - <img src=\"https://img.ceclinux.org/92/eda44dc2985b456e117b41f5c6dbcb15ffe00d.png\">\n",
    "        - $C_{outdeg}(v)=\\frac{d_v^{in}}{|N|-1}$, where N=set of nodes in the network, $d_v^{in}$ = the out-degree of node v.\n",
    "        - <img src=\"https://img.ceclinux.org/2b/b0e4483df8f94b1ea07a7c60560da031cf5f72.png\">\n",
    "        \n",
    "### Closeness Centrality\n",
    "- Assumption: important nodes are close to other nodes\n",
    "<img src=\"https://img.ceclinux.org/e9/6f598d98a49c409b649622802d4ed253e06df8.png\">\n",
    "\n",
    "### Measuring Disconnected Nodes\n",
    "<img src=\"https://img.ceclinux.org/f5/11294253f7df977288d6f9f105afb776317cc4.png\">\n",
    "Consider only nodes that L can reach and normalize by the fraction of nodes L can reach:\n",
    "<img src=\"https://img.ceclinux.org/99/7edc8d40668a577477afba158ec5c108ec2ef0.png\">\n",
    "closeCent = nx.closeness_centrality(G, normalized=True)"
   ]
  },
  {
   "cell_type": "code",
   "execution_count": null,
   "metadata": {},
   "outputs": [],
   "source": []
  },
  {
   "cell_type": "code",
   "execution_count": null,
   "metadata": {},
   "outputs": [],
   "source": []
  }
 ],
 "metadata": {
  "kernelspec": {
   "display_name": "Python 3",
   "language": "python",
   "name": "python3"
  },
  "language_info": {
   "codemirror_mode": {
    "name": "ipython",
    "version": 3
   },
   "file_extension": ".py",
   "mimetype": "text/x-python",
   "name": "python",
   "nbconvert_exporter": "python",
   "pygments_lexer": "ipython3",
   "version": "3.6.2"
  }
 },
 "nbformat": 4,
 "nbformat_minor": 2
}
