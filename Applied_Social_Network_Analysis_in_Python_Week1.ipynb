{
 "cells": [
  {
   "cell_type": "markdown",
   "metadata": {},
   "source": [
    "# Module 1: Why Study Networks and Basics on NetworkX\n"
   ]
  },
  {
   "cell_type": "markdown",
   "metadata": {},
   "source": [
    "## Networks: Definition and Why We Study Them\n",
    "\n",
    "### Networks \n",
    "1. A set of objects (nodes) with interconnections (edges)\n",
    "\n",
    "Examples: \n",
    "\n",
    "<img src=\"https://img.ceclinux.org/ba/a9f68dc0196bab3a9ed979a2a29ca711de5dec.png\">\n",
    "<img src=\"https://img.ceclinux.org/ce/5881f537ecde6859e857ecad84b84a29f87b7a.png\">\n",
    "<img src=\"https://img.ceclinux.org/07/7004e731109dc857610fb0aa26df4de33e8031.png\">\n",
    "<img src=\"https://img.ceclinux.org/69/9693bc431f0be1dfae078d840c8d391c97e46e.png\">\n",
    "\n",
    "2. Network Applications\n",
    "    - Is a rumor likely to spread in this network?\n",
    "    - Who are the most influential people in this organization?\n",
    "    - Is this clude likely to split into two groups? If yes, which nodes will go to which group?\n",
    "    - Which airports are at highest risk for virus spreading?\n",
    "    - Are some parts of the world more difficult to reach?\n",
    "    - etc.\n",
    "\n",
    "### Summary\n",
    "1. Many complex structures can be modeled by networks\n",
    "2. Studying the structure of a network allow us to answer questions about complex phenomena\n"
   ]
  },
  {
   "cell_type": "code",
   "execution_count": null,
   "metadata": {},
   "outputs": [],
   "source": []
  }
 ],
 "metadata": {
  "kernelspec": {
   "display_name": "Python 3",
   "language": "python",
   "name": "python3"
  },
  "language_info": {
   "codemirror_mode": {
    "name": "ipython",
    "version": 3
   },
   "file_extension": ".py",
   "mimetype": "text/x-python",
   "name": "python",
   "nbconvert_exporter": "python",
   "pygments_lexer": "ipython3",
   "version": "3.6.2"
  }
 },
 "nbformat": 4,
 "nbformat_minor": 2
}
