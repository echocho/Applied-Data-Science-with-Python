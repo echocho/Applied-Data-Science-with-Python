{
 "cells": [
  {
   "cell_type": "markdown",
   "metadata": {},
   "source": [
    "# Module 1: Why Study Networks and Basics on NetworkX\n"
   ]
  },
  {
   "cell_type": "markdown",
   "metadata": {},
   "source": [
    "## Networks: Definition and Why We Study Them\n",
    "\n",
    "### Networks \n",
    "1. A set of objects (nodes) with interconnections (edges)\n",
    "\n",
    "Examples: \n",
    "\n",
    "<img src=\"https://img.ceclinux.org/ba/a9f68dc0196bab3a9ed979a2a29ca711de5dec.png\">\n",
    "<img src=\"https://img.ceclinux.org/ce/5881f537ecde6859e857ecad84b84a29f87b7a.png\">\n",
    "<img src=\"https://img.ceclinux.org/07/7004e731109dc857610fb0aa26df4de33e8031.png\">\n",
    "<img src=\"https://img.ceclinux.org/69/9693bc431f0be1dfae078d840c8d391c97e46e.png\">\n",
    "\n",
    "2. Network Applications\n",
    "    - Is a rumor likely to spread in this network?\n",
    "    - Who are the most influential people in this organization?\n",
    "    - Is this clude likely to split into two groups? If yes, which nodes will go to which group?\n",
    "    - Which airports are at highest risk for virus spreading?\n",
    "    - Are some parts of the world more difficult to reach?\n",
    "    - etc.\n",
    "\n",
    "### Summary\n",
    "1. Many complex structures can be modeled by networks\n",
    "2. Studying the structure of a network allow us to answer questions about complex phenomena\n"
   ]
  },
  {
   "cell_type": "markdown",
   "metadata": {},
   "source": [
    "## Network Definition and Vocabulary\n",
    "Network (Graph): A representation of connections among a set of items\n",
    "    - Items are called nodes (or vertices)\n",
    "    - Connections are called edges (or link or ties)\n",
    "    <img src=\"https://img.ceclinux.org/ae/5f67db0c9b105ea28d7208507eff7d767e38a6.png\">\n",
    "```python3\n",
    "import networkx as nx\n",
    "G = nx.Graph()\n",
    "G.add_edge('A', 'B')\n",
    "G.add_edge('B', 'C')\n",
    "```\n",
    "\n",
    "### Types of networks: \n",
    "1. symmetry relationships \n",
    "    - nodes: people; edges: friendship, marital, family trees\n",
    "2. aymmetric relationships\n",
    "    - nodes: birds; edges: what eats what\n",
    "\n",
    "### Edge Direction\n",
    "1. Undirected network\n",
    "    - <img src=\"https://img.ceclinux.org/50/c284c8c2b4d66c3e593da0e1d713c4c75fa624.png\">\n",
    "2. Directed network\n",
    "    - <img src=\"https://img.ceclinux.org/5d/3679f2f5c7408df39932c5323ddfbd40825335.png\">\n",
    "\n",
    "### Weighted Networks\n",
    "1. a network where edges are assigned a (typically numerical) weight\n",
    "2. Not all relationships are equal\n",
    "3. Some edges carry higher weight than others\n",
    "4. <img src=\"https://img.ceclinux.org/cf/e669ec3577457f8c1ecd86c7021ce31f295662.png\">\n",
    "\n",
    "### Signed Networks\n",
    "A network where edges are assigned positive or negative sign. \n",
    "\n",
    "1. Some networks can carry information about friendship and antagonism based on conflict or disagreement.\n",
    "    - e.g. in Epinions and Slashdot people can declare both friends and foes.\n",
    "2. <img src=\"https://img.ceclinux.org/6b/9043b1525ba04771eea7c143bb8658e5e4b690.png\">\n",
    "3. Example:\n",
    "    ```python3\n",
    "    G = nx.Graph()\n",
    "    G.add_edge('A', 'B', sign='+')\n",
    "    G.add_edge('B', 'C', sign='-')\n",
    "    ```\n",
    "\n",
    "### Other Edge Attributes\n",
    "Edges can carry many other labels or attributes \n",
    "\n",
    "<img src=\"https://img.ceclinux.org/07/3cec506abedeb88f9883344c23e871d93facc6.png\">\n",
    "```python3\n",
    "G = nx.Graph()\n",
    "G.add_edge('A', 'B', relation='friend')\n",
    "G.add_edge('B', 'C', relation='coworker')\n",
    "G.add_edge('D', 'E', relation='family')\n",
    "```\n",
    "\n",
    "### Multigraphs\n",
    "A network where multiple edges can connect the same nodes (parallel edges)\n",
    "\n",
    "<img src=\"https://img.ceclinux.org/ef/9157b10d8ed48dd15c62e591ff1368c100691f.png\">\n",
    "\n",
    "```python3\n",
    "G = nx.MultiGraph()\n",
    "G.add_edge('A', 'B', relation='friend')\n",
    "G.add_edge('A', 'B', relation='neighbor')\n",
    "```"
   ]
  },
  {
   "cell_type": "markdown",
   "metadata": {},
   "source": [
    "## Node and Edge Attributes\n",
    "### Edge Attributes in NetworkX"
   ]
  },
  {
   "cell_type": "markdown",
   "metadata": {},
   "source": [
    "<img src=\"https://img.ceclinux.org/dd/91a98da10ca8f587dd0806a3adb0729bd5ef94.png\">"
   ]
  },
  {
   "cell_type": "code",
   "execution_count": 4,
   "metadata": {},
   "outputs": [
    {
     "name": "stdout",
     "output_type": "stream",
     "text": [
      "[('A', 'B'), ('B', 'C')]\n",
      "[('A', 'B', {'weight': 6, 'relation': 'family'}), ('B', 'C', {'weight': 13, 'relation': 'friend'})]\n",
      "[('A', 'B', 'family'), ('B', 'C', 'friend')]\n"
     ]
    }
   ],
   "source": [
    "import networkx as nx\n",
    "\n",
    "G = nx.Graph()\n",
    "G.add_edge('A', 'B', weight=6, relation='family')\n",
    "G.add_edge('B', 'C', weight=13, relation='friend')\n",
    "\n",
    "print(G.edges()) # list all edges\n",
    "print(G.edges(data=True)) # list all edges with attributes\n",
    "print(G.edges(data='relation')) # list of all edges wit attribute 'relation'"
   ]
  },
  {
   "cell_type": "code",
   "execution_count": 9,
   "metadata": {},
   "outputs": [
    {
     "ename": "AttributeError",
     "evalue": "'Graph' object has no attribute 'edge'",
     "output_type": "error",
     "traceback": [
      "\u001b[0;31m---------------------------------------------------------------------------\u001b[0m",
      "\u001b[0;31mAttributeError\u001b[0m                            Traceback (most recent call last)",
      "\u001b[0;32m<ipython-input-9-078f019bbdec>\u001b[0m in \u001b[0;36m<module>\u001b[0;34m()\u001b[0m\n\u001b[1;32m     11\u001b[0m \u001b[0mG\u001b[0m\u001b[0;34m.\u001b[0m\u001b[0medges\u001b[0m\u001b[0;34m(\u001b[0m\u001b[0mdata\u001b[0m\u001b[0;34m=\u001b[0m\u001b[0;32mTrue\u001b[0m\u001b[0;34m)\u001b[0m \u001b[0;31m# list of all edges with attributes\u001b[0m\u001b[0;34m\u001b[0m\u001b[0m\n\u001b[1;32m     12\u001b[0m \u001b[0mG\u001b[0m\u001b[0;34m.\u001b[0m\u001b[0medges\u001b[0m\u001b[0;34m(\u001b[0m\u001b[0mdata\u001b[0m\u001b[0;34m=\u001b[0m\u001b[0;34m'relation'\u001b[0m\u001b[0;34m)\u001b[0m \u001b[0;31m#list of all edges with attribute 'relation'\u001b[0m\u001b[0;34m\u001b[0m\u001b[0m\n\u001b[0;32m---> 13\u001b[0;31m \u001b[0mG\u001b[0m\u001b[0;34m.\u001b[0m\u001b[0medge\u001b[0m\u001b[0;34m[\u001b[0m\u001b[0;34m'A'\u001b[0m\u001b[0;34m]\u001b[0m\u001b[0;34m[\u001b[0m\u001b[0;34m'B'\u001b[0m\u001b[0;34m]\u001b[0m\u001b[0;34m[\u001b[0m\u001b[0;34m'weight'\u001b[0m\u001b[0;34m]\u001b[0m \u001b[0;31m# weight of edge (A, B)\u001b[0m\u001b[0;34m\u001b[0m\u001b[0m\n\u001b[0m",
      "\u001b[0;31mAttributeError\u001b[0m: 'Graph' object has no attribute 'edge'"
     ]
    }
   ],
   "source": [
    "# Adding node and edge attributes\n",
    "G = nx.Graph()\n",
    "G.add_edge('A', 'B', weight=6, relation='family')\n",
    "G.add_node('A', role='trader')\n",
    "\n",
    "# Accessing node attributes:\n",
    "G.nodes(data=True) # list of all nodes with attributes\n",
    "G.node['A']['role'] # role of node A\n",
    "\n",
    "# Accessing Edge attributes:\n",
    "G.edges(data=True) # list of all edges with attributes\n",
    "G.edges(data='relation') #list of all edges with attribute 'relation'\n",
    "G.edge['A']['B']['weight'] # weight of edge (A, B)"
   ]
  },
  {
   "cell_type": "markdown",
   "metadata": {},
   "source": [
    "## Bipartite Graphs\n",
    "A graph whose nodes can be split into two sets L and R and every edge connects an node in L with a node in R.\n",
    "\n",
    "<img src=\"https://img.ceclinux.org/47/f81b38bac1c8366c230973a717017e05506a36.png\">\n",
    "```python3\n",
    "from networkx.algorithms import bipartite\n",
    "B = nx.Graph()\n",
    "B.add_nodes_from(['A', 'B', 'C', 'D', 'E'], bipartite=0)\n",
    "B.add_nodes_from([1,2,3,4], bipartite=1)\n",
    "B.add_edges_from([('A', 1), ('B', 1), ('C', 3), ('D', 2), ('E', 3), ('E', 4)])\n",
    "```\n",
    "\n",
    "```python3 \n",
    "#check if a graph is bipartite\n",
    "bipartite.is_bipartite(B) \n",
    "\n",
    "#check if a set of nodes is a bipartition of a graph\n",
    "X = set([1,2,3,4])\n",
    "bipartite.is_bipartite_node_set(B, X)\n",
    "\n",
    "# get both sets of nodes of a bipartite\n",
    "bipartite.sets(B)\n",
    "```\n",
    "\n",
    "###  Projected Graphs\n",
    "**L-Bipartite graph projection**: Network of nodes in group L, whre a pair of nodes is connected if they have a common neighbor in R in the bipartite graph. \n",
    "<img src=\"https://img.ceclinux.org/22/3bcbf69031e69c36b058367a585d6814a77341.png\">\n",
    "<img src=\"https://img.ceclinux.org/e0/04b2782257910228802ed45ad7bdbf93e0574f.png\">\n",
    "\n",
    "**L-Bipartite weighted graph projection**: an L-bipartite graph projection with weights on the edges that are proportional to the number of common neighbors between the nodes.\n",
    "<img src=\"https://img.ceclinux.org/13/849da3bb3d64056d380c75bd05a76ff7d5055f.png\">\n",
    "```python3\n",
    "X = set([1,2,3])\n",
    "P = bipartite.weighted_projected_graph(B,X)\n",
    "```"
   ]
  },
  {
   "cell_type": "code",
   "execution_count": null,
   "metadata": {},
   "outputs": [],
   "source": []
  }
 ],
 "metadata": {
  "kernelspec": {
   "display_name": "Python 3",
   "language": "python",
   "name": "python3"
  },
  "language_info": {
   "codemirror_mode": {
    "name": "ipython",
    "version": 3
   },
   "file_extension": ".py",
   "mimetype": "text/x-python",
   "name": "python",
   "nbconvert_exporter": "python",
   "pygments_lexer": "ipython3",
   "version": "3.6.2"
  }
 },
 "nbformat": 4,
 "nbformat_minor": 2
}
