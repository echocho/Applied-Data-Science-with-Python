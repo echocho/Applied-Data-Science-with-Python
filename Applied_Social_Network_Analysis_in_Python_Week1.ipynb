{
 "cells": [
  {
   "cell_type": "markdown",
   "metadata": {},
   "source": [
    "# Module 1: Why Study Networks and Basics on NetworkX\n"
   ]
  },
  {
   "cell_type": "markdown",
   "metadata": {},
   "source": [
    "## Networks: Definition and Why We Study Them\n",
    "\n",
    "### Networks \n",
    "1. A set of objects (nodes) with interconnections (edges)\n",
    "\n",
    "Examples: \n",
    "\n",
    "<img src=\"https://img.ceclinux.org/ba/a9f68dc0196bab3a9ed979a2a29ca711de5dec.png\">\n",
    "<img src=\"https://img.ceclinux.org/ce/5881f537ecde6859e857ecad84b84a29f87b7a.png\">\n",
    "<img src=\"https://img.ceclinux.org/07/7004e731109dc857610fb0aa26df4de33e8031.png\">\n",
    "<img src=\"https://img.ceclinux.org/69/9693bc431f0be1dfae078d840c8d391c97e46e.png\">\n",
    "\n",
    "2. Network Applications\n",
    "    - Is a rumor likely to spread in this network?\n",
    "    - Who are the most influential people in this organization?\n",
    "    - Is this clude likely to split into two groups? If yes, which nodes will go to which group?\n",
    "    - Which airports are at highest risk for virus spreading?\n",
    "    - Are some parts of the world more difficult to reach?\n",
    "    - etc.\n",
    "\n",
    "### Summary\n",
    "1. Many complex structures can be modeled by networks\n",
    "2. Studying the structure of a network allow us to answer questions about complex phenomena\n"
   ]
  },
  {
   "cell_type": "markdown",
   "metadata": {},
   "source": [
    "## Network Definition and Vocabulary\n",
    "Network (Graph): A representation of connections among a set of items\n",
    "    - Items are called nodes (or vertices)\n",
    "    - Connections are called edges (or link or ties)\n",
    "    <img src=\"https://img.ceclinux.org/ae/5f67db0c9b105ea28d7208507eff7d767e38a6.png\">\n",
    "```python3\n",
    "import networkx as nx\n",
    "G = nx.Graph()\n",
    "G.add_edge('A', 'B')\n",
    "G.add_edge('B', 'C')\n",
    "```\n",
    "\n",
    "### Types of networks: \n",
    "1. symmetry relationships \n",
    "    - nodes: people; edges: friendship, marital, family trees\n",
    "2. aymmetric relationships\n",
    "    - nodes: birds; edges: what eats what\n",
    "\n",
    "### Edge Direction\n",
    "1. Undirected network\n",
    "    - <img src=\"https://img.ceclinux.org/50/c284c8c2b4d66c3e593da0e1d713c4c75fa624.png\">\n",
    "2. Directed network\n",
    "    - <img src=\"https://img.ceclinux.org/5d/3679f2f5c7408df39932c5323ddfbd40825335.png\">\n",
    "\n",
    "### Weighted Networks\n",
    "1. a network where edges are assigned a (typically numerical) weight\n",
    "2. Not all relationships are equal\n",
    "3. Some edges carry higher weight than others\n",
    "4. <img src=\"https://img.ceclinux.org/cf/e669ec3577457f8c1ecd86c7021ce31f295662.png\">\n",
    "\n",
    "### Signed Networks\n",
    "A network where edges are assigned positive or negative sign. \n",
    "\n",
    "1. Some networks can carry information about friendship and antagonism based on conflict or disagreement.\n",
    "    - e.g. in Epinions and Slashdot people can declare both friends and foes.\n",
    "2. <img src=\"https://img.ceclinux.org/6b/9043b1525ba04771eea7c143bb8658e5e4b690.png\">\n",
    "3. Example:\n",
    "    ```python3\n",
    "    G = nx.Graph()\n",
    "    G.add_edge('A', 'B', sign='+')\n",
    "    G.add_edge('B', 'C', sign='-')\n",
    "    ```\n",
    "\n",
    "### Other Edge Attributes\n",
    "Edges can carry many other labels or attributes \n",
    "\n",
    "<img src=\"https://img.ceclinux.org/07/3cec506abedeb88f9883344c23e871d93facc6.png\">\n",
    "```python3\n",
    "G = nx.Graph()\n",
    "G.add_edge('A', 'B', relation='friend')\n",
    "G.add_edge('B', 'C', relation='coworker')\n",
    "G.add_edge('D', 'E', relation='family')\n",
    "```\n",
    "\n",
    "### Multigraphs\n",
    "A network where multiple edges can connect the same nodes (parallel edges)\n",
    "\n",
    "<img src=\"https://img.ceclinux.org/ef/9157b10d8ed48dd15c62e591ff1368c100691f.png\">\n",
    "\n",
    "```python3\n",
    "G = nx.MultiGraph()\n",
    "G.add_edge('A', 'B', relation='friend')\n",
    "G.add_edge('A', 'B', relation='neighbor')\n",
    "```"
   ]
  },
  {
   "cell_type": "code",
   "execution_count": null,
   "metadata": {},
   "outputs": [],
   "source": [
    "Health, Science, Automobiles, Politics, Government, Travel, Computers & IT, Sports, Business, Society & Lifestyle, Religion, Education\n",
    "\n",
    "Education, Automibiles, Computer & IT, Religion, Automobiles; Sports, Health, ?, Science, "
   ]
  }
 ],
 "metadata": {
  "kernelspec": {
   "display_name": "Python 3",
   "language": "python",
   "name": "python3"
  },
  "language_info": {
   "codemirror_mode": {
    "name": "ipython",
    "version": 3
   },
   "file_extension": ".py",
   "mimetype": "text/x-python",
   "name": "python",
   "nbconvert_exporter": "python",
   "pygments_lexer": "ipython3",
   "version": "3.6.2"
  }
 },
 "nbformat": 4,
 "nbformat_minor": 2
}
