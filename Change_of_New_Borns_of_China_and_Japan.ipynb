{
 "cells": [
  {
   "cell_type": "markdown",
   "metadata": {},
   "source": [
    "# Research Questions:\n",
    "### How did the percentage of 0-to-4-year-old population (to total population) of China and Japan change over the past 64 years?"
   ]
  },
  {
   "cell_type": "code",
   "execution_count": 7,
   "metadata": {},
   "outputs": [
    {
     "name": "stdout",
     "output_type": "stream",
     "text": [
      "Using matplotlib backend: MacOSX\n"
     ]
    }
   ],
   "source": [
    "%matplotlib\n",
    "import pandas as pd \n",
    "import numpy as np \n",
    "import matplotlib.pyplot as plt"
   ]
  },
  {
   "cell_type": "code",
   "execution_count": 148,
   "metadata": {},
   "outputs": [],
   "source": [
    "pop_0to4 = pd.read_csv('https://raw.githubusercontent.com/echocho/Applied-Data-Science-with-Python/master/PopulationByAgeSex.csv')\n",
    "pop_total = pd.read_csv('https://raw.githubusercontent.com/echocho/Applied-Data-Science-with-Python/master/TotalPopulationBySex.csv')\n",
    "# pop_0to4 = pd.read_csv('PopulationByAgeSex.csv')\n",
    "# pop_total = pd.read_csv('TotalPopulationBySex.csv')"
   ]
  },
  {
   "cell_type": "code",
   "execution_count": 149,
   "metadata": {},
   "outputs": [
    {
     "name": "stderr",
     "output_type": "stream",
     "text": [
      "/Library/Frameworks/Python.framework/Versions/3.6/lib/python3.6/site-packages/ipykernel_launcher.py:1: UserWarning: Boolean Series key will be reindexed to match DataFrame index.\n",
      "  \"\"\"Entry point for launching an IPython kernel.\n",
      "/Library/Frameworks/Python.framework/Versions/3.6/lib/python3.6/site-packages/ipykernel_launcher.py:3: UserWarning: Boolean Series key will be reindexed to match DataFrame index.\n",
      "  This is separate from the ipykernel package so we can avoid doing imports until\n"
     ]
    }
   ],
   "source": [
    "pop_0to4_china = pop_0to4[pop_0to4['Location'] == 'China'][pop_0to4['AgeGrp'] == '0-4']\n",
    "pop_0to4_china = pop_0to4_china[pop_0to4_china['Time'] <= 2018][['Time', 'PopTotal']].set_index('Time')\n",
    "pop_0to4_japan = pop_0to4[pop_0to4['Location'] == 'Japan'][pop_0to4['AgeGrp'] == '0-4']\n",
    "pop_0to4_japan = pop_0to4_japan[pop_0to4_japan['Time'] <= 2018][['Time', 'PopTotal']].set_index('Time')\n",
    "\n",
    "pop_total_china = pop_total[pop_total['Location'] == 'China']\n",
    "pop_total_china = pop_total_china[pop_total_china['Time'] <= 2018][['Time', 'PopTotal']].drop_duplicates('Time').set_index('Time')\n",
    "pop_total_japan = pop_total[pop_total['Location'] == 'Japan']\n",
    "pop_total_japan = pop_total_japan[pop_total_japan['Time'] <= 2018][['Time', 'PopTotal']].drop_duplicates('Time').set_index('Time')\n"
   ]
  },
  {
   "cell_type": "code",
   "execution_count": 150,
   "metadata": {},
   "outputs": [],
   "source": [
    "prcnt_china = pop_0to4_china / pop_total_china\n",
    "prcnt_japan = pop_0to4_japan / pop_total_japan"
   ]
  },
  {
   "cell_type": "code",
   "execution_count": 151,
   "metadata": {},
   "outputs": [],
   "source": [
    "prcnt_china.columns, prcnt_japan.columns = ['China'], ['Japan']"
   ]
  },
  {
   "cell_type": "code",
   "execution_count": 152,
   "metadata": {},
   "outputs": [
    {
     "data": {
      "text/html": [
       "<div>\n",
       "<style scoped>\n",
       "    .dataframe tbody tr th:only-of-type {\n",
       "        vertical-align: middle;\n",
       "    }\n",
       "\n",
       "    .dataframe tbody tr th {\n",
       "        vertical-align: top;\n",
       "    }\n",
       "\n",
       "    .dataframe thead th {\n",
       "        text-align: right;\n",
       "    }\n",
       "</style>\n",
       "<table border=\"1\" class=\"dataframe\">\n",
       "  <thead>\n",
       "    <tr style=\"text-align: right;\">\n",
       "      <th></th>\n",
       "      <th>China</th>\n",
       "      <th>Japan</th>\n",
       "    </tr>\n",
       "  </thead>\n",
       "  <tbody>\n",
       "    <tr>\n",
       "      <th>1950</th>\n",
       "      <td>0.137996</td>\n",
       "      <td>0.135328</td>\n",
       "    </tr>\n",
       "    <tr>\n",
       "      <th>1951</th>\n",
       "      <td>0.147821</td>\n",
       "      <td>0.132936</td>\n",
       "    </tr>\n",
       "    <tr>\n",
       "      <th>1952</th>\n",
       "      <td>0.159057</td>\n",
       "      <td>0.126505</td>\n",
       "    </tr>\n",
       "    <tr>\n",
       "      <th>1953</th>\n",
       "      <td>0.166953</td>\n",
       "      <td>0.119663</td>\n",
       "    </tr>\n",
       "    <tr>\n",
       "      <th>1954</th>\n",
       "      <td>0.169595</td>\n",
       "      <td>0.113245</td>\n",
       "    </tr>\n",
       "  </tbody>\n",
       "</table>\n",
       "</div>"
      ],
      "text/plain": [
       "         China     Japan\n",
       "1950  0.137996  0.135328\n",
       "1951  0.147821  0.132936\n",
       "1952  0.159057  0.126505\n",
       "1953  0.166953  0.119663\n",
       "1954  0.169595  0.113245"
      ]
     },
     "execution_count": 152,
     "metadata": {},
     "output_type": "execute_result"
    }
   ],
   "source": [
    "prcnt = pd.concat([prcnt_china, prcnt_japan], axis=1)\n",
    "prcnt.index.name = None\n",
    "prcnt.head()"
   ]
  },
  {
   "cell_type": "code",
   "execution_count": 153,
   "metadata": {},
   "outputs": [
    {
     "data": {
      "text/plain": [
       "[Text(0,0.5,'Percentage')]"
      ]
     },
     "execution_count": 153,
     "metadata": {},
     "output_type": "execute_result"
    }
   ],
   "source": [
    "ax = prcnt.plot(title='Percentage of 0 to 4 Year Olds to Total Population')\n",
    "ax.spines['right'].set_visible(False)\n",
    "ax.spines['top'].set_visible(False)\n",
    "ax.set(ylabel=\"Percentage\")"
   ]
  },
  {
   "cell_type": "code",
   "execution_count": null,
   "metadata": {},
   "outputs": [],
   "source": []
  },
  {
   "cell_type": "code",
   "execution_count": null,
   "metadata": {},
   "outputs": [],
   "source": []
  },
  {
   "cell_type": "code",
   "execution_count": null,
   "metadata": {},
   "outputs": [],
   "source": []
  },
  {
   "cell_type": "code",
   "execution_count": null,
   "metadata": {},
   "outputs": [],
   "source": []
  },
  {
   "cell_type": "code",
   "execution_count": null,
   "metadata": {},
   "outputs": [],
   "source": []
  },
  {
   "cell_type": "code",
   "execution_count": null,
   "metadata": {},
   "outputs": [],
   "source": []
  },
  {
   "cell_type": "code",
   "execution_count": null,
   "metadata": {},
   "outputs": [],
   "source": []
  }
 ],
 "metadata": {
  "kernelspec": {
   "display_name": "Python 3",
   "language": "python",
   "name": "python3"
  },
  "language_info": {
   "codemirror_mode": {
    "name": "ipython",
    "version": 3
   },
   "file_extension": ".py",
   "mimetype": "text/x-python",
   "name": "python",
   "nbconvert_exporter": "python",
   "pygments_lexer": "ipython3",
   "version": "3.6.2"
  }
 },
 "nbformat": 4,
 "nbformat_minor": 2
}
