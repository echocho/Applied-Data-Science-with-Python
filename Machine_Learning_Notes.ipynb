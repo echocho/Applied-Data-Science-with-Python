{
 "cells": [
  {
   "cell_type": "markdown",
   "metadata": {},
   "source": [
    "# Module 1: Fundamentals of Machine Learning - Intro to SckKit Learn"
   ]
  },
  {
   "cell_type": "markdown",
   "metadata": {},
   "source": [
    "## What is Machine Learning (ML)?\n",
    "1. The study of computer programs (algorithms) that can learn by example\n",
    "\n",
    "2. ML algorithms can generalize from existing examples of a task\n",
    "    - e.g. after seeing a training set of labeled images, an image classifier can figure out how to apply labels accurately to new, previously unseen images\n",
    "    \n",
    "## Machine Learning models can learn by example\n",
    "1. Algorithms learn rules from `labelled examples`.\n",
    "\n",
    "2. A set of labelled examples used for learning is called `training data`.\n",
    "\n",
    "3. The learned rules should also be able to `generalize` to correctly recognize or predict new examples not in the traning set.\n",
    "\n",
    "## Machine learning models learn from experience\n",
    "1. Labeled examples\n",
    "    -  email spam detection\n",
    "2. User feedback\n",
    "    - clicks on a search page\n",
    "3. Surrounding environment \n",
    "    - self-driving cars\n",
    "    \n",
    "## Machine Learning brings together statistics, computer science, and more..\n",
    "1. Statistical methods\n",
    "    - infer conclusions from data\n",
    "    - estimate reliability of predictions\n",
    "2. Computer science\n",
    "    - large-scale computing architectures\n",
    "    - algorithms for capturing, manipulating, indexing, combining, retrieving and performing predictions on data\n",
    "    - software piplines that manage the complexity of multiple subtasks\n",
    "3. Economics, biology, psychology\n",
    "    - how can an individual or system efficiently improve their performance in a given environment?\n",
    "    - what is learning and how can it be optimized?\n",
    "    \n",
    "## What is `Applied` Machine Learning?\n",
    "1. Understand basic ML concepts and workflow\n",
    "\n",
    "2. How to properly apply 'black-box' machine learning components and features\n",
    "\n",
    "3. Learn hwo to apply machine learning algorithms in Python using the `scikit-learn` package\n",
    "\n",
    "### What is not convered in this course:\n",
    "    - underlying theory of statistical machine learning\n",
    "    - lower-level details of how perticular ML components work\n",
    "    - in-depth material on more advanced concepts like deep learning\n",
    "    \n",
    "`Recommended book: Introduction to Machine Learning: A Guide for DAta Scientists, Andreas C. Muller and Satah Guido, O'Reilly Media`"
   ]
  },
  {
   "cell_type": "markdown",
   "metadata": {},
   "source": [
    "## Key types of Machine Learning problems\n",
    "\n",
    "### `Supervised` machine learning: learn to predict `target values` from labelled data\n",
    "1. classification (target values are discrete classes)\n",
    "\n",
    "2. regression (target values are continouous values)\n",
    "\n",
    "<img src=\"https://img.ceclinux.org/cc/a127b733c7ba8ee0131253295fbb624c895297.png\">\n",
    "\n",
    "<img src=\"https://img.ceclinux.org/6f/25db672b12450f93747899143a7ed9248dce37.png\">\n",
    "\n",
    "\n",
    "### `Unsupervied` machine learning: find structure in *ulabeled* data\n",
    "1. find groups of similar instances in the data (clustering)\n",
    "\n",
    "2. finding unusual patterns (outlier detection)\n",
    "\n",
    "<img src=\"https://img.ceclinux.org/43/5fd3aa2e6811e38501eaed1fe7247a25f0294b.png\">\n",
    "\n",
    "<img src=\"https://img.ceclinux.org/43/5fd3aa2e6811e38501eaed1fe7247a25f0294b.png\">\n",
    "\n",
    "<img src=\"https://img.ceclinux.org/a6/e204341334f0dc5266d8a1967fd5175fdd8d87.png\">\n",
    "\n",
    "<img src=\"https://img.ceclinux.org/45/41d3b9a13c2c8ffd58c94c1f2e335fd75df110.png\">\n"
   ]
  },
  {
   "cell_type": "code",
   "execution_count": null,
   "metadata": {},
   "outputs": [],
   "source": []
  }
 ],
 "metadata": {
  "kernelspec": {
   "display_name": "Python 3",
   "language": "python",
   "name": "python3"
  },
  "language_info": {
   "codemirror_mode": {
    "name": "ipython",
    "version": 3
   },
   "file_extension": ".py",
   "mimetype": "text/x-python",
   "name": "python",
   "nbconvert_exporter": "python",
   "pygments_lexer": "ipython3",
   "version": "3.6.2"
  }
 },
 "nbformat": 4,
 "nbformat_minor": 2
}
