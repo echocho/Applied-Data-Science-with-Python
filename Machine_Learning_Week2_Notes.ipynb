{
 "cells": [
  {
   "cell_type": "markdown",
   "metadata": {},
   "source": [
    "# Module 2: Supervised Machine Learning"
   ]
  },
  {
   "cell_type": "markdown",
   "metadata": {},
   "source": [
    "## Introduction to Supervised Maching Learning\n",
    "`A more detailed and lower level ML course suggested: by Andrew Ng, also on Coursera`\n",
    "\n",
    "### Learning Objectives\n",
    "1. understand how a number of different supervised learning algorithms elarn by estimating their parameters from data to make new predictions\n",
    "\n",
    "2. understand the strengths and weaknesses of particular supervised learning methods\n",
    "\n",
    "3. learn how to apply specific supervised machine learning algorithms in Python with scikit-learn\n",
    "\n",
    "4. learn about general principles of supervised machine learning, like overfitting and how to avoid it\n",
    "\n",
    "### Review of important terms\n",
    "1. feature representation\n",
    "    - convert an object into datasets that a computer understands\n",
    "2. data instances/samples/examples(X)\n",
    "    - one row of variables, or one representation of an object instance\n",
    "3. target value\n",
    "    - the label of an object made by human\n",
    "4. training and test sets\n",
    "    - training set / test set = 75 / 25\n",
    "5. model/estimator\n",
    "    - model fitting produces a 'trained model'\n",
    "    - training is the process of estimating model parameters\n",
    "6. evaluation method b \n",
    "\n",
    "### Classification and Regression\n",
    "1. Both classification and regression take a set of training instances and learn a mapping to a *target value*\n",
    "\n",
    "2. For classification, the target value is a discrete class value\n",
    "    - Binary: target value is 0 (negative class) or 1 (positive class)\n",
    "        - e.g. detecting a fraudulent credit card transaction\n",
    "    - Multi-class: target value if one of a set of discrete values\n",
    "        - e.g. labelling the type of fruit from physical attributes\n",
    "    - Multi-label: there are multiple target values (labels)\n",
    "        - e.g. labelling the topics discussed on a Web page\n",
    "3. For regression, the target value is *continuous* (floating point/real-valued)\n",
    "\n",
    "4. Looking at the target value's type will guide you on what supervised learning method to use.\n",
    "\n",
    "5. Many supervised learning methods have 'flavors' for both classificatinon and regression\n",
    "\n",
    "### Supervised learning methods: Overview\n",
    "1. Two simple but powerful prediction algorighms:\n",
    "    - K-nearest neighbors\n",
    "    - Linear model fit using least-quares\n",
    "2. These represent two complementary approaches to supervised learning:\n",
    "    - K-nearest neighbors makes few assumptions about the strucutre of the data and gives potentially accurate but sometimes unstable predictions (sensitive to small changes in the training data).\n",
    "    - Linear models make strong assumptions about the structure of the data and give stable but potentially inaccurate predictions.\n",
    "    \n",
    "#### What is a model?\n",
    "It's a specific mathematical or computational description that expresses the relationship between a set of input variables and one or more outcome variables that are being studied or predicted. In statistical terms the input variables are called independent variables and the outcome variables are termed dependent variables.\n",
    "\n",
    "In Machine Learning we sue the term features to refer to the input, or independent variables. And target value or target label to refer tot he output, dependent variables.\n",
    "\n",
    "Models can be either used to understand and explore the structure within a given dataset, aka unsupervised learning. "
   ]
  },
  {
   "cell_type": "code",
   "execution_count": null,
   "metadata": {},
   "outputs": [],
   "source": []
  }
 ],
 "metadata": {
  "kernelspec": {
   "display_name": "Python 3",
   "language": "python",
   "name": "python3"
  },
  "language_info": {
   "codemirror_mode": {
    "name": "ipython",
    "version": 3
   },
   "file_extension": ".py",
   "mimetype": "text/x-python",
   "name": "python",
   "nbconvert_exporter": "python",
   "pygments_lexer": "ipython3",
   "version": "3.7.0"
  }
 },
 "nbformat": 4,
 "nbformat_minor": 2
}
