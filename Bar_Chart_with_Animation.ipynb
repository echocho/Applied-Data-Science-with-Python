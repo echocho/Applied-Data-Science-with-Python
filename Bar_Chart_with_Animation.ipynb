%matplotlib
import pandas as pd
import numpy as np
import matplotlib.colors as mcol
import matplotlib.cm as cm
import matplotlib.pyplot as plt

np.random.seed(12345)

df = pd.DataFrame([np.random.normal(32000,200000,3650), 
                   np.random.normal(43000,100000,3650), 
                   np.random.normal(43500,140000,3650), 
                   np.random.normal(48000,70000,3650)], 
                  index=[1992,1993,1994,1995])

# In a normal distribution, the interval [μ - 2σ, μ + 2σ] covers 95.5 %, 
# so you can use 2 * std to estimate the 95 % interval

fig, ax = plt.subplots()

threshold = 44000
# ------fix me-----
# ------the chart looks weired when adding yerr
# bars = plt.bar(range(df.shape[0]), df.mean(axis = 1), yerr=2*df.std(axis=1), color = 'white')
# ci_1 = df.mean(axis=1) + (1.96 * df.std(axis=1) / df.shape[1])
# ci_2 = df.mean(axis=1) - (1.96 * df.std(axis=1) / df.shape[1])
# yerr = list(zip(ci_1, ci_2))
# ------------

bars = plt.bar(range(df.shape[0]), df.mean(axis = 1), color = 'white')
axline = plt.axhline(y=threshold, color = 'grey', alpha = 0.5)

colrm = mcol.LinearSegmentedColormap.from_list("HW3",["blue", "white", "red"])
cpick = cm.ScalarMappable(cmap=colrm) 
cpick.set_array([])
plt.colorbar(cpick, orientation='horizontal')

def percentages(threshold):
    percentages = []
    for bar in bars:
        percentage = (bar.get_height()-threshold)/bar.get_height()
        if percentage > 1: 
            percentage = 1
        if percentage < 0: 
            percentage = 0
        percentages.append(percentage)
    return percentages

def update(threshold):
    axline.set_ydata(threshold)
    perc = percentages(threshold)
    for bar, p in zip(bars, perc):
        bar.set_color(cpick.to_rgba(p))

# update once before showing
update(threshold)

def onMouseMove(event):
    if event.inaxes == ax:
        update(event.ydata)
        fig.canvas.draw_idle()

fig.canvas.mpl_connect('motion_notify_event', onMouseMove)

plt.xticks(range(df.shape[0]), df.index, alpha = 0.8)

plt.show()
