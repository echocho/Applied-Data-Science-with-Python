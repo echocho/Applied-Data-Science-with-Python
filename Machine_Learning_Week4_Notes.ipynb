{
 "cells": [
  {
   "cell_type": "markdown",
   "metadata": {},
   "source": [
    "# Module 4: Supervised Machine Learning - Part 2\n"
   ]
  },
  {
   "cell_type": "markdown",
   "metadata": {},
   "source": [
    "## Navie Bayes Classifiers\n",
    "\n",
    "### Naive Bayes Classifiers: a simple, probabilistic calssifier family\n",
    "1. These classifiers are called 'Naive' because they assume that features are conditionally independent, given the class.\n",
    "\n",
    "2. In other words: they assume that, for all instances of a given class, the features have little/no correlation with each other\n",
    "\n",
    "3. Hihgly efficient leanring and prediciton\n",
    "\n",
    "4. But generalization performance may worse than more sophisticated learning methods\n",
    "\n",
    "5. Can be competitive for some tasks, esp./usual. for high dimensional datasets\n",
    "\n",
    "### Naive Bayes Classifier Types\n",
    "1. Bernoulli: binary features (e.g. word presence/ absence)\n",
    "\n",
    "2. Multinomial: discrete features (e.g. word counts)\n",
    "\n",
    "3. Gaussian: continuous / real-valued features\n",
    "    - statistics computed for each class:\n",
    "        - for each feature: mean, standard deviation\n",
    "4. See the Applied Text Mining course for more details on the Bernoulli and Multinomial Naive Bayes models\n",
    "\n",
    "<img src=\"https://img.ceclinux.org/85/09924c76f712eec77765916129aef4916f9c33.png\">\n",
    "<img src=\"https://img.ceclinux.org/2b/3de0dcee300c274f080636a7422c0c5a129914.png>\n",
    "\n",
    "### Naive Bayes classifiers: Pros and Cons\n",
    "#### Pros:\n",
    "1. Easy to understand\n",
    "\n",
    "2. Simple, efficient parameter estimation\n",
    "\n",
    "3. Works well with high-dimensional data\n",
    "\n",
    "4. Often useful as a baseline comparision against more sophisticated methods\n",
    "\n",
    "#### Cons:\n",
    "1. Assumpition that features are conditionally independent given the class is not realistic\n",
    "\n",
    "2. As a result, other classifier types often have better generalization performance\n",
    "\n",
    "3. Their confidence estimates for predictions are not very accurate"
   ]
  }
 ],
 "metadata": {
  "kernelspec": {
   "display_name": "Python 3",
   "language": "python",
   "name": "python3"
  },
  "language_info": {
   "codemirror_mode": {
    "name": "ipython",
    "version": 3
   },
   "file_extension": ".py",
   "mimetype": "text/x-python",
   "name": "python",
   "nbconvert_exporter": "python",
   "pygments_lexer": "ipython3",
   "version": "3.6.2"
  }
 },
 "nbformat": 4,
 "nbformat_minor": 2
}
