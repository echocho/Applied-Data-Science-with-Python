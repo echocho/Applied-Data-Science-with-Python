{
 "cells": [
  {
   "cell_type": "markdown",
   "metadata": {},
   "source": [
    "# Module 2: Basic Natural Language Processing\n",
    "\n",
    "## Basic Natural Language Processing\n",
    "\n",
    "### What is Natural Language\n",
    "Language used for everyday communication by humans, compared to the artificial computer langauge. \n",
    "   - e.g. English, Chinese\n",
    "   \n",
    "### What is Natural Language Processing\n",
    "1. any computation, manipulation of natural langauge.\n",
    "2. natural languages evolve \n",
    "    - new wrods get added, e.g. selfie\n",
    "    - old words lose polularity\n",
    "    - meanings of words change\n",
    "    - language rules themselves may change\n",
    "\n",
    "### NLP Tasks: A Broad Spectrum\n",
    "1. counting words, couting frequency of words.\n",
    "2. finding sentence boundaries.\n",
    "3. part of speech tagging.\n",
    "4. parsing the sentence structure.\n",
    "5. identifying semantic roles.\n",
    "6. identifying entities in a sentence.\n",
    "7. finding which pronoun refers to which entity\n",
    "etc"
   ]
  },
  {
   "cell_type": "markdown",
   "metadata": {},
   "source": [
    "## Basic NLP Tasks with NLTK\n",
    "\n",
    "### Intro to NLTK\n",
    "1. NLTK: Natural Language Toolkit.\n",
    "2. Has support for most NLP tasks.\n",
    "3. Provides access to numerous text corpora.\n",
    "\n",
    "### Normalization and Stemming\n",
    "1. Different forms of the same 'word'.\n",
    "    - Normalization:\n",
    "        ``` \n",
    "        a = 'List listed lists listing listings'\n",
    "        words1 = a.lower().split(' ')\n",
    "        words1\n",
    "        # output ['list', 'listed', 'lists', 'listing', 'listings']\n",
    "        \n",
    "        ```\n",
    "    - Stemming: to find the root word or the root form on any given word.\n",
    "        ``` \n",
    "        porter = nltk.PorterStemmer()\n",
    "        [porter.stem(t) for t in words]\n",
    "        # output [u'list', u'list', u'list', u'list', u'list']\n",
    "        ```\n",
    "    - Lemmatization: stemming, but resulting stems are all valid words, e.g. nltk.WordNetLemmatizer()\n",
    "    \n",
    "    - Tokenization: \n",
    "        ``` \n",
    "        text = \"Children shouldn't drink a sugary drink before bed.\"\n",
    "        text.split(' ')\n",
    "        # output ['Children', \"shouldn't\", 'drink', 'a', 'sugary', 'drink', 'before', 'bed.']\n",
    "        \n",
    "        ntlk.word_tokenize(text)\n",
    "        # output ['Children', \"should\", \"n't\", 'drink', 'a', 'sugary', 'drink', 'before', 'bed', '.']\n",
    "        ```\n",
    "        \n",
    "### Sentence Splitting\n",
    "#### How would you split sentences from a long text string?\n",
    "NLTK has an in-built sentence splitter, e.g. nltk.sent_tokenize(text)\n",
    "    "
   ]
  },
  {
   "cell_type": "markdown",
   "metadata": {},
   "source": [
    "## Advanced NLP tasks with NLTK\n",
    "\n",
    "### Part-of-speech  (POS) Tagging \n",
    "nltk.help.upenn_tagset('MD')\n",
    "nltk.pos_tag(text)\n",
    "\n",
    "#### Ambiguity in POS Tagging\n",
    "Sentence 'Visiting aunts can be a nuisance'.\n",
    "\n",
    "nltk will tag 'visiting' as gerand even though it could be adj too. The reason is visting as a gerand is more common than visiting as an adj.\n",
    "\n",
    "### Parsing the sentence structure\n",
    "Ambiguity may exist even if sentences are grammtically correct.\n",
    "\n",
    "### Identifying semantic role labeling\n",
    "\n",
    "### Named entity recognition\n",
    "\n",
    "### Co-reference and pronoun resolution"
   ]
  },
  {
   "cell_type": "code",
   "execution_count": null,
   "metadata": {},
   "outputs": [],
   "source": []
  }
 ],
 "metadata": {
  "kernelspec": {
   "display_name": "Python 3",
   "language": "python",
   "name": "python3"
  },
  "language_info": {
   "codemirror_mode": {
    "name": "ipython",
    "version": 3
   },
   "file_extension": ".py",
   "mimetype": "text/x-python",
   "name": "python",
   "nbconvert_exporter": "python",
   "pygments_lexer": "ipython3",
   "version": "3.6.2"
  }
 },
 "nbformat": 4,
 "nbformat_minor": 2
}
