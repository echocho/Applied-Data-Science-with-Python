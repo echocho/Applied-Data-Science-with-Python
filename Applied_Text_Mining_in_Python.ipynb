{
 "cells": [
  {
   "cell_type": "markdown",
   "metadata": {},
   "source": [
    "# Module 1: Working with Text in Python\n",
    "\n",
    "## Introduction to Text Mining\n",
    "### What can be done with text?\n",
    "1. parse text.\n",
    "2. find/idenify/extract relevant information from text.\n",
    "3. classify text documents.\n",
    "4. search for relevant text documents.\n",
    "5. sentiment ansysis.\n",
    "6. topic modeling.\n"
   ]
  },
  {
   "cell_type": "markdown",
   "metadata": {},
   "source": [
    "## Handling Text in Python\n",
    "\n",
    "### Primitive Constructs in Text\n",
    "1. sentencs/ input strings.\n",
    "2. words ro tokens.\n",
    "3. characters.\n",
    "4. documents, larger files\n",
    "\n",
    "### Some word comparison fucntions\n",
    "1. s.startwith(t).\n",
    "2. s.endswith(t).\n",
    "3. t in s.\n",
    "4. s.isupper(); s.islower(); s.istitle().\n",
    "5. s.isalpha(); s.isdigit(); s.isalnum().\n",
    "\n",
    "### String operations (which I didn't use that often)\n",
    "1. s.splitliens()\n",
    "2. s.titlecase()\n",
    "3. s.find(t); s.rfind(t)"
   ]
  },
  {
   "cell_type": "markdown",
   "metadata": {},
   "source": [
    "## Regular Expressions\n",
    "\n",
    "e.g."
   ]
  },
  {
   "cell_type": "code",
   "execution_count": null,
   "metadata": {},
   "outputs": [],
   "source": [
    "# To extract hashtags from tweet\n",
    "import re\n",
    "tweet = \"@nltk Text analysis is awesome! #regex #pandas #python\"\n",
    "res = [re.findall('#[a-zA-Z0-9]+', tweet)]"
   ]
  }
 ],
 "metadata": {
  "kernelspec": {
   "display_name": "Python 3",
   "language": "python",
   "name": "python3"
  },
  "language_info": {
   "codemirror_mode": {
    "name": "ipython",
    "version": 3
   },
   "file_extension": ".py",
   "mimetype": "text/x-python",
   "name": "python",
   "nbconvert_exporter": "python",
   "pygments_lexer": "ipython3",
   "version": "3.6.2"
  }
 },
 "nbformat": 4,
 "nbformat_minor": 2
}
